{
  "nbformat": 4,
  "nbformat_minor": 0,
  "metadata": {
    "colab": {
      "provenance": []
    },
    "kernelspec": {
      "name": "python3",
      "display_name": "Python 3"
    },
    "language_info": {
      "name": "python"
    }
  },
  "cells": [
    {
      "cell_type": "markdown",
      "source": [
        " we explore the concept of Two-Way Quantum Communication (2WQC) using PennyLane and visualize the joint measurement results using Plotly. Quantum communication involves the transfer of quantum states between parties, which is essential for various quantum information processing tasks.\n",
        "\n",
        "The quantum circuit begins with the preparation of a quantum state $\\rho$. In our example, Alice prepares a superposition state using a Hadamard gate:\n",
        "\n",
        "$\\rightarrow \\text{Hadamard gate} \\rightarrow |\\psi\\rangle = \\frac{1}{\\sqrt{2}}(|0\\rangle + |1\\rangle)\n",
        "\\$\n",
        "\n",
        "The function prepare\\_state\\_circuit()} sets up a PennyLane quantum node to execute this circuit.\n",
        "\n",
        "\n",
        "Bob receives the state $\\rho$ prepared by Alice and conjugates it to prepare $\\rho^*$. Conjugating a quantum state involves applying the adjoint (inverse) of the original state preparation circuit:\n",
        "\n",
        " $\\rightarrow \\text{Adjoint of } \\rho \\rightarrow \\rho^*\n",
        "\\$\n",
        "\n",
        "Here, the function conjugate\\_state() defines a new quantum node that executes the adjoint operation on $\\rho$.\n",
        "\n",
        "\n",
        "\n",
        "After preparing $\\rho$ and $\\rho^*$, Alice and Bob perform a joint measurement on the composite system $\\rho \\otimes \\rho^*$. This joint measurement yields probabilities for different measurement outcomes, corresponding to the states $\\{|00\\rangle, |01\\rangle, |10\\rangle, |11\\rangle\\}$:\n",
        "\n",
        " $\\rightarrow \\text{Probs}(|00\\rangle, |01\\rangle, |10\\rangle, |11\\rangle)\n",
        "\\$\n",
        "\n",
        "The function joint\\_measurement() sets up a quantum node to compute these probabilities using PennyLane.\n",
        "\n"
      ],
      "metadata": {
        "id": "aUNpeev6xxRC"
      }
    },
    {
      "cell_type": "markdown",
      "source": [
        "\n",
        "The integration of conjugate states into Two-Way Quantum Communication (2WQC) represents a significant advancement in quantum information processing. In 2WQC scenarios, Alice and Bob initially share a quantum state $\\rho$ through entanglement or a quantum channel. To harness the full potential of joint measurements on $\\rho \\otimes \\rho^*$, the complex conjugate state $\\rho^*$ must be prepared. This preparation involves constructing a circuit that mirrors the operations of the original state preparation circuit, although in a reversed manner. This capability enables Alice and Bob to independently prepare $\\rho^*$ using their respective quantum resources.\n",
        "\n",
        "The distribution of entangled pairs, essential for conjugate state measurements, uses the foundational quantum communication protocols. Efficient entanglement distribution ensures that Alice and Bob have synchronized access to $\\rho$ and $\\rho^*$ when needed. This synchronization is crucial for maximizing the benefits of joint measurements, enhancing learning efficiency, and enabling applications such as Quantum Key Distribution (QKD), Quantum Teleportation, and Dense Coding.\n",
        "\n",
        "The exponential improvement in learning efficiency afforded by joint measurements on $\\rho \\otimes \\rho^*$ offers numerous practical advantages. For instance, in QKD, the enhanced security arises from precise eavesdropping detection and efficient error correction. Similarly, in quantum teleportation, accurate state reconstruction and resource optimization are achieved, while dense coding benefits from increased information capacity.\n",
        "\n",
        "The implementation of conjugate state measurements in 2WQC demands careful consideration of quantum memory requirements, noise mitigation strategies, and reliable classical communication for synchronization. Experimental validation in quantum communication testbeds will be crucial to assess the feasibility and performance of these advancements in real-world applications.\n"
      ],
      "metadata": {
        "id": "G-P18XsudPwm"
      }
    },
    {
      "cell_type": "markdown",
      "source": [
        "further discussions\n",
        "how to integrate conjugate states into 2WQC as a significant advancement in quantum information processing.\n",
        " the preparation of $\\rho^*$ through the construction of a reversed circuit based on the original state preparation of $\\rho$.\n",
        "Highlighting the role of entangled pairs in facilitating conjugate state measurements and ensuring synchronized access to $\\rho$ and $\\rho^*$.\n",
        " the practical benefits in QKD, quantum teleportation, and dense coding enabled by joint measurements on $\\rho \\otimes \\rho^*$.\n",
        "need to Address technical considerations such as resource management, noise mitigation, and classical communication for synchronization."
      ],
      "metadata": {
        "id": "TMyUbIDSdlKG"
      }
    },
    {
      "cell_type": "markdown",
      "source": [
        "the implementation of conjugate states $\\rho$ and $\\rho^*$ can be expressed through the following equation\n",
        "\n",
        "\n",
        "\\begin{align}\n",
        "    \\rho \\otimes \\rho^* &= (\\mathcal{U} \\rho \\mathcal{U}^\\dagger) \\otimes (\\mathcal{U} \\rho^* \\mathcal{U}^\\dagger) \\\\\n",
        "    &= (\\mathcal{U} \\otimes \\mathcal{U}) (\\rho \\otimes \\rho^*) (\\mathcal{U}^\\dagger \\otimes \\mathcal{U}^\\dagger),\n",
        "\\end{align}\n",
        "\n",
        "\\begin{align*}\n",
        "    \\text{$\\rho$ and $\\rho^*$} & \\text{: Quantum states prepared by Alice and Bob, respectively.} \\\\\n",
        "    \\mathcal{U} & \\text{: Unitary operation corresponding to the state preparation circuit.} \\\\\n",
        "    \\mathcal{U}^\\dagger & \\text{: Adjoint (inverse) of $\\mathcal{U}$, enabling the preparation of $\\rho^*$.} \\\\\n",
        "    \\otimes & \\text{: Tensor product operation, representing joint measurements on the combined state.}\n",
        "\\end{align*}\n",
        "\n",
        "\n",
        "This equation is to show how joint measurements on the composite state $\\rho \\otimes \\rho^*$ leverage the conjugate preparation of states to enhance learning efficiency in various quantum communication tasks such as Quantum Key Distribution (QKD), Quantum Teleportation, and Dense Coding. The implementation of $\\mathcal{U}$ and $\\mathcal{U}^\\dagger$ is important for achieving synchronization between Alice and Bob in 2WQC protocols."
      ],
      "metadata": {
        "id": "Y6RhSvqke62l"
      }
    },
    {
      "cell_type": "code",
      "source": [
        "!pip install pennylane"
      ],
      "metadata": {
        "colab": {
          "base_uri": "https://localhost:8080/"
        },
        "id": "9gVf30YbXM5S",
        "outputId": "056446dc-43db-4cf8-f4b9-ba9497a51639"
      },
      "execution_count": null,
      "outputs": [
        {
          "output_type": "stream",
          "name": "stdout",
          "text": [
            "Collecting pennylane\n",
            "  Downloading PennyLane-0.36.0-py3-none-any.whl (1.7 MB)\n",
            "\u001b[2K     \u001b[90m━━━━━━━━━━━━━━━━━━━━━━━━━━━━━━━━━━━━━━━━\u001b[0m \u001b[32m1.7/1.7 MB\u001b[0m \u001b[31m7.3 MB/s\u001b[0m eta \u001b[36m0:00:00\u001b[0m\n",
            "\u001b[?25hRequirement already satisfied: numpy<2.0 in /usr/local/lib/python3.10/dist-packages (from pennylane) (1.25.2)\n",
            "Requirement already satisfied: scipy in /usr/local/lib/python3.10/dist-packages (from pennylane) (1.11.4)\n",
            "Requirement already satisfied: networkx in /usr/local/lib/python3.10/dist-packages (from pennylane) (3.3)\n",
            "Collecting rustworkx (from pennylane)\n",
            "  Downloading rustworkx-0.14.2-cp310-cp310-manylinux_2_17_x86_64.manylinux2014_x86_64.whl (2.1 MB)\n",
            "\u001b[2K     \u001b[90m━━━━━━━━━━━━━━━━━━━━━━━━━━━━━━━━━━━━━━━━\u001b[0m \u001b[32m2.1/2.1 MB\u001b[0m \u001b[31m12.6 MB/s\u001b[0m eta \u001b[36m0:00:00\u001b[0m\n",
            "\u001b[?25hRequirement already satisfied: autograd in /usr/local/lib/python3.10/dist-packages (from pennylane) (1.6.2)\n",
            "Requirement already satisfied: toml in /usr/local/lib/python3.10/dist-packages (from pennylane) (0.10.2)\n",
            "Collecting appdirs (from pennylane)\n",
            "  Downloading appdirs-1.4.4-py2.py3-none-any.whl (9.6 kB)\n",
            "Collecting semantic-version>=2.7 (from pennylane)\n",
            "  Downloading semantic_version-2.10.0-py2.py3-none-any.whl (15 kB)\n",
            "Collecting autoray>=0.6.1 (from pennylane)\n",
            "  Downloading autoray-0.6.12-py3-none-any.whl (50 kB)\n",
            "\u001b[2K     \u001b[90m━━━━━━━━━━━━━━━━━━━━━━━━━━━━━━━━━━━━━━━━\u001b[0m \u001b[32m51.0/51.0 kB\u001b[0m \u001b[31m2.8 MB/s\u001b[0m eta \u001b[36m0:00:00\u001b[0m\n",
            "\u001b[?25hRequirement already satisfied: cachetools in /usr/local/lib/python3.10/dist-packages (from pennylane) (5.3.3)\n",
            "Collecting pennylane-lightning>=0.36 (from pennylane)\n",
            "  Downloading PennyLane_Lightning-0.36.0-cp310-cp310-manylinux_2_17_x86_64.manylinux2014_x86_64.whl (19.1 MB)\n",
            "\u001b[2K     \u001b[90m━━━━━━━━━━━━━━━━━━━━━━━━━━━━━━━━━━━━━━━━\u001b[0m \u001b[32m19.1/19.1 MB\u001b[0m \u001b[31m11.9 MB/s\u001b[0m eta \u001b[36m0:00:00\u001b[0m\n",
            "\u001b[?25hRequirement already satisfied: requests in /usr/local/lib/python3.10/dist-packages (from pennylane) (2.31.0)\n",
            "Requirement already satisfied: typing-extensions in /usr/local/lib/python3.10/dist-packages (from pennylane) (4.12.2)\n",
            "Requirement already satisfied: future>=0.15.2 in /usr/local/lib/python3.10/dist-packages (from autograd->pennylane) (0.18.3)\n",
            "Requirement already satisfied: charset-normalizer<4,>=2 in /usr/local/lib/python3.10/dist-packages (from requests->pennylane) (3.3.2)\n",
            "Requirement already satisfied: idna<4,>=2.5 in /usr/local/lib/python3.10/dist-packages (from requests->pennylane) (3.7)\n",
            "Requirement already satisfied: urllib3<3,>=1.21.1 in /usr/local/lib/python3.10/dist-packages (from requests->pennylane) (2.0.7)\n",
            "Requirement already satisfied: certifi>=2017.4.17 in /usr/local/lib/python3.10/dist-packages (from requests->pennylane) (2024.6.2)\n",
            "Installing collected packages: appdirs, semantic-version, rustworkx, autoray, pennylane-lightning, pennylane\n",
            "Successfully installed appdirs-1.4.4 autoray-0.6.12 pennylane-0.36.0 pennylane-lightning-0.36.0 rustworkx-0.14.2 semantic-version-2.10.0\n"
          ]
        }
      ]
    },
    {
      "cell_type": "code",
      "source": [
        "import pennylane as qml\n",
        "from pennylane import numpy as np\n",
        "\n",
        "# Define the quantum circuit for state preparation (ρ)\n",
        "def prepare_state_circuit():\n",
        "    dev = qml.device('default.qubit', wires=1)\n",
        "\n",
        "    @qml.qnode(dev)\n",
        "    def circuit_rho():\n",
        "        qml.Hadamard(wires=0)  # Apply Hadamard gate to prepare a superposition state\n",
        "        return qml.state()\n",
        "\n",
        "    return circuit_rho\n",
        "\n",
        "# Function to conjugate the state preparation operation\n",
        "def conjugate_state(state_prep):\n",
        "    @qml.qnode(state_prep.device)\n",
        "    def circuit_rho_bar():\n",
        "        state_prep()\n",
        "        qml.adjoint(state_prep)  # Apply the adjoint (inverse) of the state preparation circuit\n",
        "        return qml.state()\n",
        "\n",
        "    return circuit_rho_bar\n",
        "\n",
        "# Function to perform joint measurement on ρ ⊗ ρ*\n",
        "def joint_measurement(qc_rho, qc_rho_bar):\n",
        "    dev = qml.device('default.qubit', wires=2)\n",
        "\n",
        "    @qml.qnode(dev)\n",
        "    def joint_measurement_circuit():\n",
        "        qc_rho()  # Evaluate the circuit for state ρ\n",
        "        qc_rho_bar()  # Evaluate the conjugate circuit for state ρ*\n",
        "        return qml.probs(wires=[0, 1])  # Perform joint measurement\n",
        "\n",
        "    return joint_measurement_circuit\n",
        "\n",
        "# Example usage:\n",
        "if __name__ == '__main__':\n",
        "    # Alice prepares the state ρ\n",
        "    circuit_rho = prepare_state_circuit()\n",
        "\n",
        "    # Bob conjugates the state preparation to prepare ρ*\n",
        "    circuit_rho_bar = conjugate_state(circuit_rho)\n",
        "\n",
        "    # Alice and Bob perform joint measurement on ρ ⊗ ρ*\n",
        "    joint_measurement_circuit = joint_measurement(circuit_rho, circuit_rho_bar)\n",
        "\n",
        "    # Simulate the joint measurement\n",
        "    result = joint_measurement_circuit()\n",
        "\n",
        "    print(\"Joint measurement results:\", result)\n"
      ],
      "metadata": {
        "colab": {
          "base_uri": "https://localhost:8080/"
        },
        "id": "PqFPZ5N7aErh",
        "outputId": "b8e4e67c-b923-4577-8f02-7f9530d7d7c9"
      },
      "execution_count": null,
      "outputs": [
        {
          "output_type": "stream",
          "name": "stdout",
          "text": [
            "Joint measurement results: [1. 0. 0. 0.]\n"
          ]
        }
      ]
    },
    {
      "cell_type": "code",
      "source": [
        "import pennylane as qml\n",
        "from pennylane import numpy as np\n",
        "\n",
        "# Define the quantum circuit for state preparation (ρ)\n",
        "def prepare_state_circuit():\n",
        "    dev = qml.device('default.qubit', wires=1)\n",
        "\n",
        "    @qml.qnode(dev)\n",
        "    def circuit_rho():\n",
        "        qml.Hadamard(wires=0)  # Apply Hadamard gate to prepare a superposition state\n",
        "        return qml.state()\n",
        "\n",
        "    return circuit_rho\n",
        "\n",
        "# Function to conjugate the state preparation operation\n",
        "def conjugate_state(state_prep):\n",
        "    @qml.qnode(state_prep.device)\n",
        "    def circuit_rho_bar():\n",
        "        state_prep()\n",
        "        qml.adjoint(state_prep)  # Apply the adjoint (inverse) of the state preparation circuit\n",
        "        return qml.state()\n",
        "\n",
        "    return circuit_rho_bar\n",
        "\n",
        "# Function to perform joint measurement on ρ ⊗ ρ*\n",
        "def joint_measurement(qc_rho, qc_rho_bar):\n",
        "    dev = qml.device('default.qubit', wires=2)\n",
        "\n",
        "    @qml.qnode(dev)\n",
        "    def joint_measurement_circuit():\n",
        "        qc_rho()  # Evaluate the circuit for state ρ\n",
        "        qc_rho_bar()  # Evaluate the conjugate circuit for state ρ*\n",
        "        return qml.probs(wires=[0, 1])  # Perform joint measurement\n",
        "\n",
        "    return joint_measurement_circuit\n",
        "\n",
        "# Function to perform Two-Way Quantum Communication (2WQC)\n",
        "def _2WQC():\n",
        "    # Alice prepares the state ρ\n",
        "    circuit_rho = prepare_state_circuit()\n",
        "\n",
        "    # Bob conjugates the state preparation to prepare ρ*\n",
        "    circuit_rho_bar = conjugate_state(circuit_rho)\n",
        "\n",
        "    # Alice and Bob perform joint measurement on ρ ⊗ ρ*\n",
        "    joint_measurement_circuit = joint_measurement(circuit_rho, circuit_rho_bar)\n",
        "\n",
        "    # Simulate the joint measurement\n",
        "    result = joint_measurement_circuit()\n",
        "\n",
        "    print(\"Joint measurement results:\", result)\n",
        "\n",
        "# Example usage:\n",
        "if __name__ == '__main__':\n",
        "    _2WQC()\n"
      ],
      "metadata": {
        "colab": {
          "base_uri": "https://localhost:8080/"
        },
        "id": "Qc-Q6MUcacRB",
        "outputId": "5ebbcb5b-6248-487a-d5bc-17f7132c667a"
      },
      "execution_count": null,
      "outputs": [
        {
          "output_type": "stream",
          "name": "stdout",
          "text": [
            "Joint measurement results: [1. 0. 0. 0.]\n"
          ]
        }
      ]
    },
    {
      "cell_type": "code",
      "source": [
        "import pennylane as qml\n",
        "from pennylane import numpy as np\n",
        "import matplotlib.pyplot as plt\n",
        "\n",
        "# Define the quantum circuit for state preparation (ρ)\n",
        "def prepare_state_circuit():\n",
        "    dev = qml.device('default.qubit', wires=1)\n",
        "\n",
        "    @qml.qnode(dev)\n",
        "    def circuit_rho():\n",
        "        qml.Hadamard(wires=0)  # Apply Hadamard gate to prepare a superposition state\n",
        "        return qml.state()\n",
        "\n",
        "    return circuit_rho\n",
        "\n",
        "# Function to conjugate the state preparation operation\n",
        "def conjugate_state(state_prep):\n",
        "    @qml.qnode(state_prep.device)\n",
        "    def circuit_rho_bar():\n",
        "        state_prep()\n",
        "        qml.adjoint(state_prep)  # Apply the adjoint (inverse) of the state preparation circuit\n",
        "        return qml.state()\n",
        "\n",
        "    return circuit_rho_bar\n",
        "\n",
        "# Function to perform joint measurement on ρ ⊗ ρ*\n",
        "def joint_measurement(qc_rho, qc_rho_bar):\n",
        "    dev = qml.device('default.qubit', wires=2)\n",
        "\n",
        "    @qml.qnode(dev)\n",
        "    def joint_measurement_circuit():\n",
        "        qc_rho()  # Evaluate the circuit for state ρ\n",
        "        qc_rho_bar()  # Evaluate the conjugate circuit for state ρ*\n",
        "        return qml.probs(wires=[0, 1])  # Perform joint measurement\n",
        "\n",
        "    return joint_measurement_circuit\n",
        "\n",
        "# Function to perform Two-Way Quantum Communication (2WQC)\n",
        "def _2WQC():\n",
        "    # Alice prepares the state ρ\n",
        "    circuit_rho = prepare_state_circuit()\n",
        "\n",
        "    # Bob conjugates the state preparation to prepare ρ*\n",
        "    circuit_rho_bar = conjugate_state(circuit_rho)\n",
        "\n",
        "    # Alice and Bob perform joint measurement on ρ ⊗ ρ*\n",
        "    joint_measurement_circuit = joint_measurement(circuit_rho, circuit_rho_bar)\n",
        "\n",
        "    # Simulate the joint measurement\n",
        "    result = joint_measurement_circuit()\n",
        "\n",
        "    # Plotting the histogram of the measurement results\n",
        "    fig, ax = plt.subplots()\n",
        "    ax.bar(range(len(result)), result, align='center')\n",
        "    ax.set_xticks(range(len(result)))\n",
        "    ax.set_xticklabels(['00', '01', '10', '11'])  # Labels for the measurement outcomes\n",
        "    ax.set_xlabel('Measurement Outcome')\n",
        "    ax.set_ylabel('Probability')\n",
        "    ax.set_title('Joint Measurement Results')\n",
        "    plt.show()\n",
        "\n",
        "# Example usage:\n",
        "if __name__ == '__main__':\n",
        "    _2WQC()\n"
      ],
      "metadata": {
        "colab": {
          "base_uri": "https://localhost:8080/",
          "height": 472
        },
        "id": "yhSdGLFPamTI",
        "outputId": "95e1a3db-65c0-47a0-e0ec-7878ece236a5"
      },
      "execution_count": null,
      "outputs": [
        {
          "output_type": "display_data",
          "data": {
            "text/plain": [
              "<Figure size 640x480 with 1 Axes>"
            ],
            "image/png": "[encoded data removed]"
          },
          "metadata": {}
        }
      ]
    },
    {
      "cell_type": "code",
      "source": [
        "import pennylane as qml\n",
        "from pennylane import numpy as np\n",
        "import matplotlib.pyplot as plt\n",
        "\n",
        "# Define the quantum circuit for state preparation (ρ)\n",
        "def prepare_state_circuit():\n",
        "    dev = qml.device('default.qubit', wires=1)\n",
        "\n",
        "    @qml.qnode(dev)\n",
        "    def circuit_rho():\n",
        "        qml.Hadamard(wires=0)  # Apply Hadamard gate to prepare a superposition state\n",
        "        return qml.state()\n",
        "\n",
        "    return circuit_rho\n",
        "\n",
        "# Function to conjugate the state preparation operation\n",
        "def conjugate_state(state_prep):\n",
        "    @qml.qnode(state_prep.device)\n",
        "    def circuit_rho_bar():\n",
        "        state_prep()\n",
        "        qml.adjoint(state_prep)  # Apply the adjoint (inverse) of the state preparation circuit\n",
        "        return qml.state()\n",
        "\n",
        "    return circuit_rho_bar\n",
        "\n",
        "# Function to perform joint measurement on ρ ⊗ ρ*\n",
        "def joint_measurement(qc_rho, qc_rho_bar):\n",
        "    dev = qml.device('default.qubit', wires=2)\n",
        "\n",
        "    @qml.qnode(dev)\n",
        "    def joint_measurement_circuit():\n",
        "        qc_rho()  # Evaluate the circuit for state ρ\n",
        "        qc_rho_bar()  # Evaluate the conjugate circuit for state ρ*\n",
        "        return qml.probs(wires=[0, 1])  # Perform joint measurement\n",
        "\n",
        "    return joint_measurement_circuit\n",
        "\n",
        "# Function to perform Two-Way Quantum Communication (2WQC)\n",
        "def _2WQC(plot_histogram=True):\n",
        "    # Alice prepares the state ρ\n",
        "    circuit_rho = prepare_state_circuit()\n",
        "\n",
        "    # Bob conjugates the state preparation to prepare ρ*\n",
        "    circuit_rho_bar = conjugate_state(circuit_rho)\n",
        "\n",
        "    # Alice and Bob perform joint measurement on ρ ⊗ ρ*\n",
        "    joint_measurement_circuit = joint_measurement(circuit_rho, circuit_rho_bar)\n",
        "\n",
        "    # Simulate the joint measurement\n",
        "    result = joint_measurement_circuit()\n",
        "\n",
        "    # Plot histogram of measurement outcomes\n",
        "    if plot_histogram:\n",
        "        plt.bar(range(len(result)), result, align='center', alpha=0.8)\n",
        "        plt.xticks(range(len(result)), ['00', '01', '10', '11'])\n",
        "        plt.xlabel('Measurement Outcome')\n",
        "        plt.ylabel('Probability')\n",
        "        plt.title('Joint Measurement Results')\n",
        "        plt.show()\n",
        "\n",
        "    print(\"Joint measurement results:\", result)\n",
        "\n",
        "# Example usage:\n",
        "if __name__ == '__main__':\n",
        "    _2WQC()\n"
      ],
      "metadata": {
        "colab": {
          "base_uri": "https://localhost:8080/",
          "height": 489
        },
        "id": "6HOtzbh6a4Ho",
        "outputId": "e8c76ee4-9577-43fd-adb8-05649180786c"
      },
      "execution_count": null,
      "outputs": [
        {
          "output_type": "display_data",
          "data": {
            "text/plain": [
              "<Figure size 640x480 with 1 Axes>"
            ],
            "image/png": "[encoded data removed]"
          },
          "metadata": {}
        },
        {
          "output_type": "stream",
          "name": "stdout",
          "text": [
            "Joint measurement results: [1. 0. 0. 0.]\n"
          ]
        }
      ]
    },
    {
      "cell_type": "code",
      "source": [
        "import pennylane as qml\n",
        "from pennylane import numpy as np\n",
        "import plotly.graph_objects as go\n",
        "\n",
        "# Define the quantum circuit for state preparation (ρ)\n",
        "def prepare_state_circuit():\n",
        "    dev = qml.device('default.qubit', wires=1)\n",
        "\n",
        "    @qml.qnode(dev)\n",
        "    def circuit_rho():\n",
        "        qml.Hadamard(wires=0)  # Apply Hadamard gate to prepare a superposition state\n",
        "        return qml.state()\n",
        "\n",
        "    return circuit_rho\n",
        "\n",
        "# Function to conjugate the state preparation operation\n",
        "def conjugate_state(state_prep):\n",
        "    @qml.qnode(state_prep.device)\n",
        "    def circuit_rho_bar():\n",
        "        state_prep()\n",
        "        qml.adjoint(state_prep)  # Apply the adjoint (inverse) of the state preparation circuit\n",
        "        return qml.state()\n",
        "\n",
        "    return circuit_rho_bar\n",
        "\n",
        "# Function to perform joint measurement on ρ ⊗ ρ*\n",
        "def joint_measurement(qc_rho, qc_rho_bar):\n",
        "    dev = qml.device('default.qubit', wires=2)\n",
        "\n",
        "    @qml.qnode(dev)\n",
        "    def joint_measurement_circuit():\n",
        "        qc_rho()  # Evaluate the circuit for state ρ\n",
        "        qc_rho_bar()  # Evaluate the conjugate circuit for state ρ*\n",
        "        return qml.probs(wires=[0, 1])  # Perform joint measurement\n",
        "\n",
        "    return joint_measurement_circuit\n",
        "\n",
        "# Function to perform Two-Way Quantum Communication (2WQC)\n",
        "def _2WQC():\n",
        "    # Alice prepares the state ρ\n",
        "    circuit_rho = prepare_state_circuit()\n",
        "\n",
        "    # Bob conjugates the state preparation to prepare ρ*\n",
        "    circuit_rho_bar = conjugate_state(circuit_rho)\n",
        "\n",
        "    # Alice and Bob perform joint measurement on ρ ⊗ ρ*\n",
        "    joint_measurement_circuit = joint_measurement(circuit_rho, circuit_rho_bar)\n",
        "\n",
        "    # Simulate the joint measurement\n",
        "    result = joint_measurement_circuit()\n",
        "\n",
        "    # Create a Plotly figure for the histogram\n",
        "    fig = go.Figure(data=[\n",
        "        go.Bar(x=['00', '01', '10', '11'], y=result)\n",
        "    ])\n",
        "\n",
        "    # Update layout for better visualization\n",
        "    fig.update_layout(\n",
        "        title='Joint Measurement Results',\n",
        "        xaxis=dict(title='Measurement Outcome'),\n",
        "        yaxis=dict(title='Probability')\n",
        "    )\n",
        "\n",
        "    # Show the Plotly figure\n",
        "    fig.show()\n",
        "\n",
        "    print(\"Joint measurement results:\", result)\n",
        "\n",
        "# Example usage:\n",
        "if __name__ == '__main__':\n",
        "    _2WQC()\n"
      ],
      "metadata": {
        "colab": {
          "base_uri": "https://localhost:8080/",
          "height": 559
        },
        "id": "E6g07XI9bB8p",
        "outputId": "9c9d0558-0b35-4519-af70-fbbfa8618365"
      },
      "execution_count": null,
      "outputs": [
        {
          "output_type": "display_data",
          "data": {
            "text/html": [
              "<html>\n",
              "<head><meta charset=\"utf-8\" /></head>\n",
              "<body>\n",
              "    <div>            <script src=\"https://cdnjs.cloudflare.com/ajax/libs/mathjax/2.7.5/MathJax.js?config=TeX-AMS-MML_SVG\"></script><script type=\"text/javascript\">if (window.MathJax && window.MathJax.Hub && window.MathJax.Hub.Config) {window.MathJax.Hub.Config({SVG: {font: \"STIX-Web\"}});}</script>                <script type=\"text/javascript\">window.PlotlyConfig = {MathJaxConfig: 'local'};</script>\n",
              "        <script charset=\"utf-8\" src=\"https://cdn.plot.ly/plotly-2.24.1.min.js\"></script>                <div id=\"36111829-6ffb-4f14-b2fc-6772901a885a\" class=\"plotly-graph-div\" style=\"height:525px; width:100%;\"></div>            <script type=\"text/javascript\">                                    window.PLOTLYENV=window.PLOTLYENV || {};                                    if (document.getElementById(\"36111829-6ffb-4f14-b2fc-6772901a885a\")) {                    Plotly.newPlot(                        \"36111829-6ffb-4f14-b2fc-6772901a885a\",                        [{\"x\":[\"00\",\"01\",\"10\",\"11\"],\"y\":[1.0,0.0,0.0,0.0],\"type\":\"bar\"}],                        {\"template\":{\"data\":{\"histogram2dcontour\":[{\"type\":\"histogram2dcontour\",\"colorbar\":{\"outlinewidth\":0,\"ticks\":\"\"},\"colorscale\":[[0.0,\"#0d0887\"],[0.1111111111111111,\"#46039f\"],[0.2222222222222222,\"#7201a8\"],[0.3333333333333333,\"#9c179e\"],[0.4444444444444444,\"#bd3786\"],[0.5555555555555556,\"#d8576b\"],[0.6666666666666666,\"#ed7953\"],[0.7777777777777778,\"#fb9f3a\"],[0.8888888888888888,\"#fdca26\"],[1.0,\"#f0f921\"]]}],\"choropleth\":[{\"type\":\"choropleth\",\"colorbar\":{\"outlinewidth\":0,\"ticks\":\"\"}}],\"histogram2d\":[{\"type\":\"histogram2d\",\"colorbar\":{\"outlinewidth\":0,\"ticks\":\"\"},\"colorscale\":[[0.0,\"#0d0887\"],[0.1111111111111111,\"#46039f\"],[0.2222222222222222,\"#7201a8\"],[0.3333333333333333,\"#9c179e\"],[0.4444444444444444,\"#bd3786\"],[0.5555555555555556,\"#d8576b\"],[0.6666666666666666,\"#ed7953\"],[0.7777777777777778,\"#fb9f3a\"],[0.8888888888888888,\"#fdca26\"],[1.0,\"#f0f921\"]]}],\"heatmap\":[{\"type\":\"heatmap\",\"colorbar\":{\"outlinewidth\":0,\"ticks\":\"\"},\"colorscale\":[[0.0,\"#0d0887\"],[0.1111111111111111,\"#46039f\"],[0.2222222222222222,\"#7201a8\"],[0.3333333333333333,\"#9c179e\"],[0.4444444444444444,\"#bd3786\"],[0.5555555555555556,\"#d8576b\"],[0.6666666666666666,\"#ed7953\"],[0.7777777777777778,\"#fb9f3a\"],[0.8888888888888888,\"#fdca26\"],[1.0,\"#f0f921\"]]}],\"heatmapgl\":[{\"type\":\"heatmapgl\",\"colorbar\":{\"outlinewidth\":0,\"ticks\":\"\"},\"colorscale\":[[0.0,\"#0d0887\"],[0.1111111111111111,\"#46039f\"],[0.2222222222222222,\"#7201a8\"],[0.3333333333333333,\"#9c179e\"],[0.4444444444444444,\"#bd3786\"],[0.5555555555555556,\"#d8576b\"],[0.6666666666666666,\"#ed7953\"],[0.7777777777777778,\"#fb9f3a\"],[0.8888888888888888,\"#fdca26\"],[1.0,\"#f0f921\"]]}],\"contourcarpet\":[{\"type\":\"contourcarpet\",\"colorbar\":{\"outlinewidth\":0,\"ticks\":\"\"}}],\"contour\":[{\"type\":\"contour\",\"colorbar\":{\"outlinewidth\":0,\"ticks\":\"\"},\"colorscale\":[[0.0,\"#0d0887\"],[0.1111111111111111,\"#46039f\"],[0.2222222222222222,\"#7201a8\"],[0.3333333333333333,\"#9c179e\"],[0.4444444444444444,\"#bd3786\"],[0.5555555555555556,\"#d8576b\"],[0.6666666666666666,\"#ed7953\"],[0.7777777777777778,\"#fb9f3a\"],[0.8888888888888888,\"#fdca26\"],[1.0,\"#f0f921\"]]}],\"surface\":[{\"type\":\"surface\",\"colorbar\":{\"outlinewidth\":0,\"ticks\":\"\"},\"colorscale\":[[0.0,\"#0d0887\"],[0.1111111111111111,\"#46039f\"],[0.2222222222222222,\"#7201a8\"],[0.3333333333333333,\"#9c179e\"],[0.4444444444444444,\"#bd3786\"],[0.5555555555555556,\"#d8576b\"],[0.6666666666666666,\"#ed7953\"],[0.7777777777777778,\"#fb9f3a\"],[0.8888888888888888,\"#fdca26\"],[1.0,\"#f0f921\"]]}],\"mesh3d\":[{\"type\":\"mesh3d\",\"colorbar\":{\"outlinewidth\":0,\"ticks\":\"\"}}],\"scatter\":[{\"fillpattern\":{\"fillmode\":\"overlay\",\"size\":10,\"solidity\":0.2},\"type\":\"scatter\"}],\"parcoords\":[{\"type\":\"parcoords\",\"line\":{\"colorbar\":{\"outlinewidth\":0,\"ticks\":\"\"}}}],\"scatterpolargl\":[{\"type\":\"scatterpolargl\",\"marker\":{\"colorbar\":{\"outlinewidth\":0,\"ticks\":\"\"}}}],\"bar\":[{\"error_x\":{\"color\":\"#2a3f5f\"},\"error_y\":{\"color\":\"#2a3f5f\"},\"marker\":{\"line\":{\"color\":\"#E5ECF6\",\"width\":0.5},\"pattern\":{\"fillmode\":\"overlay\",\"size\":10,\"solidity\":0.2}},\"type\":\"bar\"}],\"scattergeo\":[{\"type\":\"scattergeo\",\"marker\":{\"colorbar\":{\"outlinewidth\":0,\"ticks\":\"\"}}}],\"scatterpolar\":[{\"type\":\"scatterpolar\",\"marker\":{\"colorbar\":{\"outlinewidth\":0,\"ticks\":\"\"}}}],\"histogram\":[{\"marker\":{\"pattern\":{\"fillmode\":\"overlay\",\"size\":10,\"solidity\":0.2}},\"type\":\"histogram\"}],\"scattergl\":[{\"type\":\"scattergl\",\"marker\":{\"colorbar\":{\"outlinewidth\":0,\"ticks\":\"\"}}}],\"scatter3d\":[{\"type\":\"scatter3d\",\"line\":{\"colorbar\":{\"outlinewidth\":0,\"ticks\":\"\"}},\"marker\":{\"colorbar\":{\"outlinewidth\":0,\"ticks\":\"\"}}}],\"scattermapbox\":[{\"type\":\"scattermapbox\",\"marker\":{\"colorbar\":{\"outlinewidth\":0,\"ticks\":\"\"}}}],\"scatterternary\":[{\"type\":\"scatterternary\",\"marker\":{\"colorbar\":{\"outlinewidth\":0,\"ticks\":\"\"}}}],\"scattercarpet\":[{\"type\":\"scattercarpet\",\"marker\":{\"colorbar\":{\"outlinewidth\":0,\"ticks\":\"\"}}}],\"carpet\":[{\"aaxis\":{\"endlinecolor\":\"#2a3f5f\",\"gridcolor\":\"white\",\"linecolor\":\"white\",\"minorgridcolor\":\"white\",\"startlinecolor\":\"#2a3f5f\"},\"baxis\":{\"endlinecolor\":\"#2a3f5f\",\"gridcolor\":\"white\",\"linecolor\":\"white\",\"minorgridcolor\":\"white\",\"startlinecolor\":\"#2a3f5f\"},\"type\":\"carpet\"}],\"table\":[{\"cells\":{\"fill\":{\"color\":\"#EBF0F8\"},\"line\":{\"color\":\"white\"}},\"header\":{\"fill\":{\"color\":\"#C8D4E3\"},\"line\":{\"color\":\"white\"}},\"type\":\"table\"}],\"barpolar\":[{\"marker\":{\"line\":{\"color\":\"#E5ECF6\",\"width\":0.5},\"pattern\":{\"fillmode\":\"overlay\",\"size\":10,\"solidity\":0.2}},\"type\":\"barpolar\"}],\"pie\":[{\"automargin\":true,\"type\":\"pie\"}]},\"layout\":{\"autotypenumbers\":\"strict\",\"colorway\":[\"#636efa\",\"#EF553B\",\"#00cc96\",\"#ab63fa\",\"#FFA15A\",\"#19d3f3\",\"#FF6692\",\"#B6E880\",\"#FF97FF\",\"#FECB52\"],\"font\":{\"color\":\"#2a3f5f\"},\"hovermode\":\"closest\",\"hoverlabel\":{\"align\":\"left\"},\"paper_bgcolor\":\"white\",\"plot_bgcolor\":\"#E5ECF6\",\"polar\":{\"bgcolor\":\"#E5ECF6\",\"angularaxis\":{\"gridcolor\":\"white\",\"linecolor\":\"white\",\"ticks\":\"\"},\"radialaxis\":{\"gridcolor\":\"white\",\"linecolor\":\"white\",\"ticks\":\"\"}},\"ternary\":{\"bgcolor\":\"#E5ECF6\",\"aaxis\":{\"gridcolor\":\"white\",\"linecolor\":\"white\",\"ticks\":\"\"},\"baxis\":{\"gridcolor\":\"white\",\"linecolor\":\"white\",\"ticks\":\"\"},\"caxis\":{\"gridcolor\":\"white\",\"linecolor\":\"white\",\"ticks\":\"\"}},\"coloraxis\":{\"colorbar\":{\"outlinewidth\":0,\"ticks\":\"\"}},\"colorscale\":{\"sequential\":[[0.0,\"#0d0887\"],[0.1111111111111111,\"#46039f\"],[0.2222222222222222,\"#7201a8\"],[0.3333333333333333,\"#9c179e\"],[0.4444444444444444,\"#bd3786\"],[0.5555555555555556,\"#d8576b\"],[0.6666666666666666,\"#ed7953\"],[0.7777777777777778,\"#fb9f3a\"],[0.8888888888888888,\"#fdca26\"],[1.0,\"#f0f921\"]],\"sequentialminus\":[[0.0,\"#0d0887\"],[0.1111111111111111,\"#46039f\"],[0.2222222222222222,\"#7201a8\"],[0.3333333333333333,\"#9c179e\"],[0.4444444444444444,\"#bd3786\"],[0.5555555555555556,\"#d8576b\"],[0.6666666666666666,\"#ed7953\"],[0.7777777777777778,\"#fb9f3a\"],[0.8888888888888888,\"#fdca26\"],[1.0,\"#f0f921\"]],\"diverging\":[[0,\"#8e0152\"],[0.1,\"#c51b7d\"],[0.2,\"#de77ae\"],[0.3,\"#f1b6da\"],[0.4,\"#fde0ef\"],[0.5,\"#f7f7f7\"],[0.6,\"#e6f5d0\"],[0.7,\"#b8e186\"],[0.8,\"#7fbc41\"],[0.9,\"#4d9221\"],[1,\"#276419\"]]},\"xaxis\":{\"gridcolor\":\"white\",\"linecolor\":\"white\",\"ticks\":\"\",\"title\":{\"standoff\":15},\"zerolinecolor\":\"white\",\"automargin\":true,\"zerolinewidth\":2},\"yaxis\":{\"gridcolor\":\"white\",\"linecolor\":\"white\",\"ticks\":\"\",\"title\":{\"standoff\":15},\"zerolinecolor\":\"white\",\"automargin\":true,\"zerolinewidth\":2},\"scene\":{\"xaxis\":{\"backgroundcolor\":\"#E5ECF6\",\"gridcolor\":\"white\",\"linecolor\":\"white\",\"showbackground\":true,\"ticks\":\"\",\"zerolinecolor\":\"white\",\"gridwidth\":2},\"yaxis\":{\"backgroundcolor\":\"#E5ECF6\",\"gridcolor\":\"white\",\"linecolor\":\"white\",\"showbackground\":true,\"ticks\":\"\",\"zerolinecolor\":\"white\",\"gridwidth\":2},\"zaxis\":{\"backgroundcolor\":\"#E5ECF6\",\"gridcolor\":\"white\",\"linecolor\":\"white\",\"showbackground\":true,\"ticks\":\"\",\"zerolinecolor\":\"white\",\"gridwidth\":2}},\"shapedefaults\":{\"line\":{\"color\":\"#2a3f5f\"}},\"annotationdefaults\":{\"arrowcolor\":\"#2a3f5f\",\"arrowhead\":0,\"arrowwidth\":1},\"geo\":{\"bgcolor\":\"white\",\"landcolor\":\"#E5ECF6\",\"subunitcolor\":\"white\",\"showland\":true,\"showlakes\":true,\"lakecolor\":\"white\"},\"title\":{\"x\":0.05},\"mapbox\":{\"style\":\"light\"}}},\"title\":{\"text\":\"Joint Measurement Results\"},\"xaxis\":{\"title\":{\"text\":\"Measurement Outcome\"}},\"yaxis\":{\"title\":{\"text\":\"Probability\"}}},                        {\"responsive\": true}                    ).then(function(){\n",
              "                            \n",
              "var gd = document.getElementById('36111829-6ffb-4f14-b2fc-6772901a885a');\n",
              "var x = new MutationObserver(function (mutations, observer) {{\n",
              "        var display = window.getComputedStyle(gd).display;\n",
              "        if (!display || display === 'none') {{\n",
              "            console.log([gd, 'removed!']);\n",
              "            Plotly.purge(gd);\n",
              "            observer.disconnect();\n",
              "        }}\n",
              "}});\n",
              "\n",
              "// Listen for the removal of the full notebook cells\n",
              "var notebookContainer = gd.closest('#notebook-container');\n",
              "if (notebookContainer) {{\n",
              "    x.observe(notebookContainer, {childList: true});\n",
              "}}\n",
              "\n",
              "// Listen for the clearing of the current output cell\n",
              "var outputEl = gd.closest('.output');\n",
              "if (outputEl) {{\n",
              "    x.observe(outputEl, {childList: true});\n",
              "}}\n",
              "\n",
              "                        })                };                            </script>        </div>\n",
              "</body>\n",
              "</html>"
            ]
          },
          "metadata": {}
        },
        {
          "output_type": "stream",
          "name": "stdout",
          "text": [
            "Joint measurement results: [1. 0. 0. 0.]\n"
          ]
        }
      ]
    }
  ]
}